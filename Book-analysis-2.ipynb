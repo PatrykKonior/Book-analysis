{
 "cells": [
  {
   "cell_type": "markdown",
   "id": "346ec707-24fd-4aee-906e-17a401133f7c",
   "metadata": {},
   "source": [
    "# Loading the book"
   ]
  },
  {
   "cell_type": "code",
   "execution_count": 1,
   "id": "bd14ea65-9ac1-4732-8745-cde257b790eb",
   "metadata": {},
   "outputs": [],
   "source": [
    "with open(\"miracle_in_the_andes.txt\", \"r\", encoding=\"utf8\") as file:\n",
    "    book = file.read()"
   ]
  },
  {
   "cell_type": "markdown",
   "id": "35673c0d-1f79-4552-b921-6f63933e9db3",
   "metadata": {},
   "source": [
    "# The most used words (non-articles)"
   ]
  },
  {
   "cell_type": "code",
   "execution_count": 10,
   "id": "f5158847-cb25-47db-9faf-8b41fddd1edf",
   "metadata": {},
   "outputs": [
    {
     "data": {
      "text/plain": [
       "['chapter', 'before', 'it', 'was', 'friday']"
      ]
     },
     "execution_count": 10,
     "metadata": {},
     "output_type": "execute_result"
    }
   ],
   "source": [
    "import re\n",
    "pattern2 = re.compile(\"[a-zA-Z]+\")\n",
    "findings2 = re.findall(pattern2, book.lower())\n",
    "findings2[:5]"
   ]
  },
  {
   "cell_type": "code",
   "execution_count": 12,
   "id": "8a7073f3-9da2-4fa7-943b-d3cf44961563",
   "metadata": {},
   "outputs": [],
   "source": [
    "d = {}\n",
    "for word in findings2:\n",
    "    if word in d.keys():\n",
    "       d[word] = d[word] + 1\n",
    "    else:\n",
    "        d[word] = 1"
   ]
  },
  {
   "cell_type": "code",
   "execution_count": 13,
   "id": "0de05021-bc70-4d80-9197-7a25c7d7e064",
   "metadata": {},
   "outputs": [
    {
     "data": {
      "text/plain": [
       "[(5346, 'the'), (2795, 'and'), (2729, 'i'), (2400, 'to'), (2060, 'of')]"
      ]
     },
     "execution_count": 13,
     "metadata": {},
     "output_type": "execute_result"
    }
   ],
   "source": [
    "d_list = [(value, key) for (key, value) in d.items()]\n",
    "d_list = sorted(d_list, reverse=True)\n",
    "d_list[:5]"
   ]
  },
  {
   "cell_type": "code",
   "execution_count": 5,
   "id": "3c24a125-8f11-4c9a-b64d-d5d762d12ac5",
   "metadata": {},
   "outputs": [
    {
     "data": {
      "text/plain": [
       "'3.10.7'"
      ]
     },
     "execution_count": 5,
     "metadata": {},
     "output_type": "execute_result"
    }
   ],
   "source": [
    "from platform import python_version\n",
    "python_version()"
   ]
  },
  {
   "cell_type": "code",
   "execution_count": 6,
   "id": "25df6cbf-4784-4be9-8cae-e591f5e782ce",
   "metadata": {},
   "outputs": [
    {
     "name": "stdout",
     "output_type": "stream",
     "text": [
      "Requirement already satisfied: nltk in c:\\users\\patry\\pycharmprojects\\book-analysis\\venv\\lib\\site-packages (3.8.1)\n",
      "Requirement already satisfied: regex>=2021.8.3 in c:\\users\\patry\\pycharmprojects\\book-analysis\\venv\\lib\\site-packages (from nltk) (2023.6.3)\n",
      "Requirement already satisfied: tqdm in c:\\users\\patry\\pycharmprojects\\book-analysis\\venv\\lib\\site-packages (from nltk) (4.65.0)\n",
      "Requirement already satisfied: joblib in c:\\users\\patry\\pycharmprojects\\book-analysis\\venv\\lib\\site-packages (from nltk) (1.3.1)\n",
      "Requirement already satisfied: click in c:\\users\\patry\\pycharmprojects\\book-analysis\\venv\\lib\\site-packages (from nltk) (8.1.5)\n",
      "Requirement already satisfied: colorama in c:\\users\\patry\\pycharmprojects\\book-analysis\\venv\\lib\\site-packages (from click->nltk) (0.4.6)\n"
     ]
    },
    {
     "name": "stderr",
     "output_type": "stream",
     "text": [
      "WARNING: You are using pip version 21.3.1; however, version 23.2 is available.\n",
      "You should consider upgrading via the 'C:\\Users\\patry\\PycharmProjects\\Book-analysis\\venv\\Scripts\\python.exe -m pip install --upgrade pip' command.\n"
     ]
    }
   ],
   "source": [
    "!pip3.10 install nltk"
   ]
  },
  {
   "cell_type": "code",
   "execution_count": 2,
   "id": "40c72522-28e0-46f4-9909-54d74cfe56be",
   "metadata": {},
   "outputs": [
    {
     "name": "stdout",
     "output_type": "stream",
     "text": [
      "Requirement already satisfied: pip in c:\\users\\patry\\pycharmprojects\\book-analysis\\venv\\lib\\site-packages (23.2)\n"
     ]
    }
   ],
   "source": [
    "!pip install --upgrade pip"
   ]
  },
  {
   "cell_type": "code",
   "execution_count": 3,
   "id": "ee007ef3-ee5c-46a3-b6d6-0f0815f3ce2a",
   "metadata": {},
   "outputs": [
    {
     "name": "stdout",
     "output_type": "stream",
     "text": [
      "Requirement already satisfied: nltk in c:\\users\\patry\\pycharmprojects\\book-analysis\\venv\\lib\\site-packages (3.8.1)\n",
      "Requirement already satisfied: click in c:\\users\\patry\\pycharmprojects\\book-analysis\\venv\\lib\\site-packages (from nltk) (8.1.5)\n",
      "Requirement already satisfied: joblib in c:\\users\\patry\\pycharmprojects\\book-analysis\\venv\\lib\\site-packages (from nltk) (1.3.1)\n",
      "Requirement already satisfied: regex>=2021.8.3 in c:\\users\\patry\\pycharmprojects\\book-analysis\\venv\\lib\\site-packages (from nltk) (2023.6.3)\n",
      "Requirement already satisfied: tqdm in c:\\users\\patry\\pycharmprojects\\book-analysis\\venv\\lib\\site-packages (from nltk) (4.65.0)\n",
      "Requirement already satisfied: colorama in c:\\users\\patry\\pycharmprojects\\book-analysis\\venv\\lib\\site-packages (from click->nltk) (0.4.6)\n"
     ]
    }
   ],
   "source": [
    "!pip install nltk"
   ]
  },
  {
   "cell_type": "code",
   "execution_count": 7,
   "id": "a2cb078b-51d3-4be9-b49e-b9b1e69d7bfc",
   "metadata": {},
   "outputs": [
    {
     "name": "stderr",
     "output_type": "stream",
     "text": [
      "[nltk_data] Downloading package stopwords to\n",
      "[nltk_data]     C:\\Users\\patry\\AppData\\Roaming\\nltk_data...\n",
      "[nltk_data]   Package stopwords is already up-to-date!\n"
     ]
    }
   ],
   "source": [
    "import nltk\n",
    "nltk.download(\"stopwords\")\n",
    "from nltk.corpus import stopwords\n",
    "english_stopwords = stopwords.words(\"english\")"
   ]
  },
  {
   "cell_type": "code",
   "execution_count": 8,
   "id": "f12b9122-6239-4ced-96f5-7a7ab46d0cf5",
   "metadata": {},
   "outputs": [],
   "source": [
    "filtered_words = []\n",
    "for count, word in d_list:\n",
    "   if word not in english_stopwords:\n",
    "       filtered_words.append((word, count))"
   ]
  },
  {
   "cell_type": "code",
   "execution_count": 14,
   "id": "4f180f10-0f81-4a6d-9e5c-1ee8f669b878",
   "metadata": {},
   "outputs": [
    {
     "data": {
      "text/plain": [
       "[('would', 575), ('us', 519), ('said', 292), ('roberto', 284), ('could', 252)]"
      ]
     },
     "execution_count": 14,
     "metadata": {},
     "output_type": "execute_result"
    }
   ],
   "source": [
    "filtered_words[:5]"
   ]
  },
  {
   "cell_type": "code",
   "execution_count": null,
   "id": "ed1aba6d-9122-468f-9f30-4cde94658f36",
   "metadata": {},
   "outputs": [],
   "source": []
  }
 ],
 "metadata": {
  "kernelspec": {
   "display_name": "Python 3 (ipykernel)",
   "language": "python",
   "name": "python3"
  },
  "language_info": {
   "codemirror_mode": {
    "name": "ipython",
    "version": 3
   },
   "file_extension": ".py",
   "mimetype": "text/x-python",
   "name": "python",
   "nbconvert_exporter": "python",
   "pygments_lexer": "ipython3",
   "version": "3.10.7"
  }
 },
 "nbformat": 4,
 "nbformat_minor": 5
}
